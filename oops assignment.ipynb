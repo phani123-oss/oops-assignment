{
 "cells": [
  {
   "cell_type": "code",
   "execution_count": 5,
   "id": "79aee004-3b4e-40e7-9ab4-cf59b3f8bb9f",
   "metadata": {},
   "outputs": [],
   "source": [
    "'''1. Bank Account Create a class representing a bank account with attributes like account number, account holder name\n",
    "and balance.Implement methods to deposit and withdraw money from the account.'''\n",
    "\n",
    "class bankaccount:\n",
    "    #here we write a class of bank account and bank account is the pointer to class\n",
    "    \n",
    "    def __init__(self, account_number ,account_holder_name, balance):\n",
    "        #here we take dunder function, that means initialisng class variables with some reference\n",
    "        self.account_number = account_number\n",
    "        self.account_holder_name = account_holder_name\n",
    "        self.balance = balance\n",
    "        \n",
    "    def deposit(self):\n",
    "        #asking customer to enter amount to deposit\n",
    "        amount = int(input(\"enter amount to deposit : \"))\n",
    "        self.balance += amount\n",
    "        #adding amount to balancee\n",
    "        print(\"available balance is: \",self.balance)\n",
    "        \n",
    "    def withdrawl(self):\n",
    "        amount = int(input(\"enter amount to withdrawl: \"))\n",
    "        #checking amount with balance \n",
    "        if amount < self.balance:\n",
    "            self.balance -= amount\n",
    "            print(\"remaing balance in your account is :\",self.balance)\n",
    "        else:\n",
    "            print(\"insufficient balance\")"
   ]
  },
  {
   "cell_type": "code",
   "execution_count": 4,
   "id": "f7746289-2cfe-4388-9cd6-8e00c5c45665",
   "metadata": {},
   "outputs": [
    {
     "name": "stdin",
     "output_type": "stream",
     "text": [
      "enter amount to deposit :  5000\n"
     ]
    },
    {
     "name": "stdout",
     "output_type": "stream",
     "text": [
      "available balance is:  55000\n"
     ]
    },
    {
     "name": "stdin",
     "output_type": "stream",
     "text": [
      "enter amount to withdrawl:  1000\n"
     ]
    },
    {
     "name": "stdout",
     "output_type": "stream",
     "text": [
      "remaing balance in your account is : 54000\n"
     ]
    }
   ],
   "source": [
    "customer_1 = bankaccount(436435467, 'phani ', 50000)\n",
    "customer_1.deposit()\n",
    "customer_1.withdrawl()"
   ]
  },
  {
   "cell_type": "code",
   "execution_count": 6,
   "id": "970ce5c2-adc9-4cf4-81e0-681cf35e431d",
   "metadata": {},
   "outputs": [
    {
     "name": "stdin",
     "output_type": "stream",
     "text": [
      "enter amount to deposit :    100000\n"
     ]
    },
    {
     "name": "stdout",
     "output_type": "stream",
     "text": [
      "available balance is:  200000\n"
     ]
    },
    {
     "name": "stdin",
     "output_type": "stream",
     "text": [
      "enter amount to withdrawl:  1000\n"
     ]
    },
    {
     "name": "stdout",
     "output_type": "stream",
     "text": [
      "remaing balance in your account is : 199000\n"
     ]
    }
   ],
   "source": [
    "customer_2 = bankaccount(5436435, 'suresh', 100000)\n",
    "customer_2.deposit()\n",
    "customer_2.withdrawl()"
   ]
  },
  {
   "cell_type": "code",
   "execution_count": 7,
   "id": "19f77662-6f65-4419-b48a-ec3f82109f01",
   "metadata": {},
   "outputs": [
    {
     "name": "stdin",
     "output_type": "stream",
     "text": [
      "enter amount to deposit :  45000\n"
     ]
    },
    {
     "name": "stdout",
     "output_type": "stream",
     "text": [
      "available balance is:  70000\n"
     ]
    },
    {
     "name": "stdin",
     "output_type": "stream",
     "text": [
      "enter amount to withdrawl:  234\n"
     ]
    },
    {
     "name": "stdout",
     "output_type": "stream",
     "text": [
      "remaing balance in your account is : 69766\n"
     ]
    }
   ],
   "source": [
    "customer_3 = bankaccount(534778,'bhavanya',25000)\n",
    "customer_3.deposit()\n",
    "customer_3.withdrawl()"
   ]
  },
  {
   "cell_type": "code",
   "execution_count": 20,
   "id": "60aa93f2-0264-4639-80e5-b1cf1804f29d",
   "metadata": {},
   "outputs": [],
   "source": [
    "'''2.  Employee Management Create a class representing an employee with attributes like employee ID, name, and salary.\n",
    "Implement methto calculate the yearly bonus and display employee details.'''\n",
    "\n",
    "class employee_details:\n",
    "    #here class about employee details and employee details is the pointer to our class\n",
    "    \n",
    "    def __init__(self, employee_id , name, salary):\n",
    "        #dunder function with attributes employee id , name and salary\n",
    "        self.employee_id = employee_id\n",
    "        self.name = name\n",
    "        self.salary = salary\n",
    "        \n",
    "    def bonus(self):\n",
    "        salary = int(input(\"enter salary of the employee: \"))\n",
    "        #bonus = salary * 8.33/100\n",
    "        self.bonus = self.salary * (8.33/100)\n",
    "        \n",
    "    def dispaly(self):\n",
    "        #dispalying employee details\n",
    "        print(\"employee details are: \")\n",
    "        print(\"employee id is\", self.employee_id)\n",
    "        print(\"employee name is\", self.name)\n",
    "        print(\"employee salaray is\", self.salary)\n",
    "        print(\"yearly bonus of the employee is : \", self.bonus)"
   ]
  },
  {
   "cell_type": "code",
   "execution_count": 18,
   "id": "1ffb43d1-b601-4bf4-86dc-98828c08624b",
   "metadata": {},
   "outputs": [
    {
     "name": "stdin",
     "output_type": "stream",
     "text": [
      "enter salary of the employee:  25000\n"
     ]
    },
    {
     "name": "stdout",
     "output_type": "stream",
     "text": [
      "employee details are: \n",
      "employee id is 3456\n",
      "employee name is phani\n",
      "employee salaray is 25000\n",
      "yearly bonus of the employee is :  2082.5\n"
     ]
    }
   ],
   "source": [
    "employee_1 = employee_details(3456,'phani',25000)\n",
    "employee_1.bonus()\n",
    "employee_1.dispaly()"
   ]
  },
  {
   "cell_type": "code",
   "execution_count": 21,
   "id": "d2ab18cf-bdb1-4eea-b0af-1a89be83cef4",
   "metadata": {},
   "outputs": [
    {
     "name": "stdin",
     "output_type": "stream",
     "text": [
      "enter salary of the employee:  30000\n"
     ]
    },
    {
     "name": "stdout",
     "output_type": "stream",
     "text": [
      "employee details are: \n",
      "employee id is 34456\n",
      "employee name is surya\n",
      "employee salaray is 30000\n",
      "yearly bonus of the employee is :  2499.0\n"
     ]
    }
   ],
   "source": [
    "emp_2 = employee_details(34456, 'surya',30000)\n",
    "emp_2.bonus()\n",
    "emp_2.dispaly()"
   ]
  },
  {
   "cell_type": "code",
   "execution_count": 18,
   "id": "b5b0aaba-ca78-4fdf-887f-35b358d09827",
   "metadata": {},
   "outputs": [],
   "source": [
    "'''3.  Student Management Create a class representing a student with attributes like student ID, name, and grades. \n",
    "Implement methods to calculate the average grade and display student details.'''\n",
    "\n",
    "class student:\n",
    "    #here class about student and student  is the pointer to our class\n",
    "    def __init__(self, stud_id ,name, grades):\n",
    "        #initialiser method\n",
    "        #dunder function with attributes studid,name,grade\n",
    "        self.stud_id = stud_id\n",
    "        self.name = name\n",
    "        self.grades = grades\n",
    "        \n",
    "    def calculate_averagegrade(self):\n",
    "        total_grade = sum(self.grades)\n",
    "        #average = totalgrade / no.of grades\n",
    "        #for no.of grades we use len function\n",
    "        average_grade = total_grade/len(self.grades)\n",
    "        return average_grade\n",
    "    \n",
    "    def dispaly_details(self):\n",
    "        print(\"student details are: \")\n",
    "        print(\"id of the student is: \", self.stud_id)\n",
    "        print(\"name of the student is: \",self.name)\n",
    "        print(\"grades of the student is: \",self.grades)\n",
    "        #students avearge grade is returned in claculate average grade(), so we use that inside our print\n",
    "        print(\"average grade of the student is: \",self.calculate_averagegrade())\n",
    "        \n",
    "    \n",
    "    "
   ]
  },
  {
   "cell_type": "code",
   "execution_count": 19,
   "id": "4812a398-2ec8-467a-b01d-c55223391983",
   "metadata": {},
   "outputs": [
    {
     "name": "stdout",
     "output_type": "stream",
     "text": [
      "student details are: \n",
      "id of the student is:  123\n",
      "name of the student is:  phani\n",
      "grades of the student is:  [70, 80, 90, 100, 60]\n",
      "average grade of the student is:  80.0\n"
     ]
    }
   ],
   "source": [
    "stud_1 = student(123 , 'phani' ,[70,80,90,100,60])\n",
    "stud_1.dispaly_details()"
   ]
  },
  {
   "cell_type": "code",
   "execution_count": 20,
   "id": "d92f8bc6-09ca-4576-ba04-6e996c84f641",
   "metadata": {},
   "outputs": [
    {
     "name": "stdout",
     "output_type": "stream",
     "text": [
      "student details are: \n",
      "id of the student is:  234\n",
      "name of the student is:  surya\n",
      "grades of the student is:  [45, 55, 65, 75, 85]\n",
      "average grade of the student is:  65.0\n"
     ]
    }
   ],
   "source": [
    "stud_2 = student(234, 'surya',[45,55,65,75,85])\n",
    "stud_2.dispaly_details()"
   ]
  },
  {
   "cell_type": "code",
   "execution_count": 7,
   "id": "53e4b52d-0e12-42c5-8921-04fdba5a631d",
   "metadata": {},
   "outputs": [],
   "source": [
    "'''4. Email Management Create a class representing an email with attributes like sender, recipient, and subject. \n",
    "Implement methods to send an email and display email details.'''\n",
    "\n",
    "class email:\n",
    "    #here class about email amd email is a pointer to the class\n",
    "    \n",
    "    def __init__(self,sender,recipient,subject):\n",
    "        #dunder function with attributes sender,recipient,subject\n",
    "        self.sender = sender\n",
    "        self.recipient = recipient\n",
    "        self.subject = subject\n",
    "        \n",
    "    def send_mail(self):\n",
    "        print(\"email sent\")\n",
    "    \n",
    "    def display(self):\n",
    "        print(\"sender was: \",self.sender)\n",
    "        print(\"recipient was: \",self.recipient)\n",
    "        print(\"subject is: \",self.subject)\n",
    "        print(\"meassage sent by you is: \",self.send_mail())\n",
    "        "
   ]
  },
  {
   "cell_type": "code",
   "execution_count": 8,
   "id": "1db43565-584e-4ecc-ba8a-6eab3db1374b",
   "metadata": {},
   "outputs": [
    {
     "name": "stdout",
     "output_type": "stream",
     "text": [
      "email sent\n",
      "sender was:  phani\n",
      "recipient was:  suresh\n",
      "subject is:  about oops\n",
      "email sent\n",
      "meassage sent by you is:  None\n"
     ]
    }
   ],
   "source": [
    "e_1 = email('phani','suresh','about oops')\n",
    "e_1.send_mail()\n",
    "e_1.display()"
   ]
  },
  {
   "cell_type": "code",
   "execution_count": 32,
   "id": "5cbb8267-4841-4dfd-8fc6-8f2904a73351",
   "metadata": {},
   "outputs": [],
   "source": [
    "'''5. ToDo List Create a class representing a ToDo list with attributes like tasks and due dates. \n",
    "Implement methods to add tasks, mark tasks as completed, and display pending tasks.'''\n",
    "\n",
    "class todolist:\n",
    "    #here we write a class of todolist and todolist is a pointer to our class\n",
    "    def __init__(self, tasks,duedates):\n",
    "        #using initialiser method\n",
    "        #dunder function with attributes tasks and duedates\n",
    "        self.tasks = tasks\n",
    "        self.duedates = duedates\n",
    "       \n",
    "    def add_tasks(self):\n",
    "        #adding tasks to tasks list\n",
    "        task = input(\"enter any task to add in to do: \")\n",
    "        self.tasks.append(task)\n",
    "        return self.tasks.append(task)\n",
    "\n",
    "    def completed(self):\n",
    "        task = input(\"enter any task to check: \")\n",
    "        #checking task is pending or not\n",
    "        if task in self.tasks:\n",
    "            print(\"mark task as completed\")\n",
    "        else:\n",
    "            print(\"mark task is not completed\")\n",
    "            \n",
    "    def pendingtasks(self):\n",
    "        #chcking pending tasks using len function\n",
    "        if len(self.tasks) == 0:\n",
    "            print(\"no pending tasks\")\n",
    "        else:\n",
    "            print(\"there is a pending task\")\n",
    "            #printing pending tasks\n",
    "        for task in self.tasks:\n",
    "            print(task)"
   ]
  },
  {
   "cell_type": "code",
   "execution_count": 33,
   "id": "a968daac-27d7-47e6-8b7a-cea07671f3ab",
   "metadata": {},
   "outputs": [],
   "source": [
    "l_1 = todolist(['breakfast', 'lunch'],['23oct am','23ot pm'])"
   ]
  },
  {
   "cell_type": "code",
   "execution_count": 34,
   "id": "f2c1ff07-51e6-4571-bacc-3bca03c93124",
   "metadata": {},
   "outputs": [
    {
     "name": "stdin",
     "output_type": "stream",
     "text": [
      "enter any task to add in to do:  dinner\n",
      "enter any task to check:  lunch\n"
     ]
    },
    {
     "name": "stdout",
     "output_type": "stream",
     "text": [
      "mark task as completed\n",
      "there is a pending task\n",
      "breakfast\n",
      "lunch\n",
      "dinner\n",
      "dinner\n"
     ]
    }
   ],
   "source": [
    "l_1.add_tasks()\n",
    "l_1.completed()\n",
    "l_1.pendingtasks()"
   ]
  },
  {
   "cell_type": "code",
   "execution_count": 145,
   "id": "2a2e8f7b-1af5-4e57-ae08-f6e8e87387ec",
   "metadata": {},
   "outputs": [],
   "source": [
    "'''6. Library Catalog Create classes representing a library and a book. \n",
    "Implement methods to add books to the library, borrow books, and display available books.'''\n",
    "\n",
    "class book:\n",
    "    #class is a book and book is a poimter\n",
    "    def __init__(self,title,author):\n",
    "        #dunder function with attributes title and author\n",
    "        self.title = title\n",
    "        self.author = author\n",
    "        \n",
    "    def extract_details(self):\n",
    "        print(\"title of the book is \", self.title)\n",
    "        print(\"author of the book is \", self.author)"
   ]
  },
  {
   "cell_type": "code",
   "execution_count": 146,
   "id": "eaab5bce-04b7-4e0e-8ce1-80690412260b",
   "metadata": {},
   "outputs": [
    {
     "name": "stdout",
     "output_type": "stream",
     "text": [
      "title of the book is  maths\n",
      "author of the book is  phani\n"
     ]
    }
   ],
   "source": [
    "example = book('maths','phani')\n",
    "example.extract_details()"
   ]
  },
  {
   "cell_type": "code",
   "execution_count": 149,
   "id": "4712f967-9448-4eab-98d2-25d11dc018ab",
   "metadata": {},
   "outputs": [],
   "source": [
    "#class is a library and we are using iheritence \n",
    "#by default book class was here \n",
    "class library(book):\n",
    "    def __init__(self):\n",
    "        #initialsing self.books and self.available books to empty using dunder function\n",
    "        self.books = []\n",
    "        self.availablebooks = []\n",
    "        \n",
    "    #adding books to slf.books\n",
    "    def add_book(self):\n",
    "        book = input(\"enter any book to add: \")\n",
    "        self.books.append(book)\n",
    "        print(self.books)\n",
    "     \n",
    "    #borrowing books from self.books\n",
    "    def borrow_book(self):\n",
    "        book = input(\"enter book title that you want\")\n",
    "        for book in self.books:\n",
    "            if self.books == book:\n",
    "                print(\"book is available take it\")\n",
    "            else:\n",
    "                print(\"book is not available\")\n",
    "    \n",
    "    def availablebooks(self):\n",
    "        for book in self.books:\n",
    "            if len(self.availalebooks) == 0:\n",
    "                print(\"no books are available\")\n",
    "        "
   ]
  },
  {
   "cell_type": "code",
   "execution_count": 142,
   "id": "65f0571c-8588-42cf-a644-c89dc76c66d6",
   "metadata": {},
   "outputs": [],
   "source": [
    "example = library()"
   ]
  },
  {
   "cell_type": "code",
   "execution_count": 134,
   "id": "f4ce98e7-3939-438f-8732-37cb2b8c62e0",
   "metadata": {},
   "outputs": [
    {
     "name": "stdin",
     "output_type": "stream",
     "text": [
      "enter any book to add:  bigdata\n"
     ]
    },
    {
     "name": "stdout",
     "output_type": "stream",
     "text": [
      "['datascience', 'maths', 'bigdata']\n"
     ]
    }
   ],
   "source": [
    "example.add_book()"
   ]
  },
  {
   "cell_type": "code",
   "execution_count": 136,
   "id": "9a3a393d-6909-4af7-8c96-c214774066c9",
   "metadata": {},
   "outputs": [
    {
     "name": "stdin",
     "output_type": "stream",
     "text": [
      "enter any book to add:  sql\n"
     ]
    },
    {
     "name": "stdout",
     "output_type": "stream",
     "text": [
      "['datascience', 'maths', 'bigdata', 'statistics', 'sql']\n"
     ]
    }
   ],
   "source": [
    "example.add_book()"
   ]
  },
  {
   "cell_type": "code",
   "execution_count": 140,
   "id": "95d13304-8481-4390-862f-f09fc5c44735",
   "metadata": {},
   "outputs": [
    {
     "name": "stdin",
     "output_type": "stream",
     "text": [
      "enter book title that you want datascience\n"
     ]
    }
   ],
   "source": [
    "example.borrow_book()"
   ]
  },
  {
   "cell_type": "code",
   "execution_count": 148,
   "id": "45978124-c930-428f-8a47-76593759fb46",
   "metadata": {},
   "outputs": [
    {
     "name": "stdout",
     "output_type": "stream",
     "text": [
      "title of the book is  maths\n",
      "author of the book is  phani\n"
     ]
    }
   ],
   "source": [
    "example.extract_details()"
   ]
  },
  {
   "cell_type": "code",
   "execution_count": 90,
   "id": "ac4fafeb-a872-47c8-8231-0fb22646da29",
   "metadata": {},
   "outputs": [],
   "source": [
    "'''7. Social Media Profile Create a class representing a social media profile with attributes like username and posts.\n",
    "Implement methods to add posts, display posts, and search for posts by keyword.'''\n",
    "\n",
    "class socialmedia:\n",
    "    #here class is a social media and socialmedia is the pointer to social media \n",
    "    def __init__(self, username):\n",
    "        #dunder function with attribute username \n",
    "        self.username = username\n",
    "        #here self.posts as a global variable to add posts in it\n",
    "        self.posts = []\n",
    "        \n",
    "    #adding post  \n",
    "    def add_posts(self):\n",
    "        post = input(\"enter post that you want to share: \")\n",
    "        self.posts.append(post)\n",
    "        print(post)\n",
    "        \n",
    "    #displaying post\n",
    "    def display_posts(self):\n",
    "        for post in self.posts:\n",
    "            print(post)\n",
    "            \n",
    "    #searching post using keyword       \n",
    "    def search_post(self,keyword):\n",
    "        #initislising found post as empty to add our post\n",
    "        found_post = []\n",
    "        for post in self.posts:\n",
    "            if keyword in post:\n",
    "                found_post.append(post)\n",
    "            return found_post\n",
    "        \n",
    "        "
   ]
  },
  {
   "cell_type": "code",
   "execution_count": 91,
   "id": "8dc8e209-f980-4a9a-b60b-6880b0615d11",
   "metadata": {},
   "outputs": [
    {
     "name": "stdin",
     "output_type": "stream",
     "text": [
      "enter post that you want to share:  hello world\n"
     ]
    },
    {
     "name": "stdout",
     "output_type": "stream",
     "text": [
      "hello world\n"
     ]
    }
   ],
   "source": [
    "whatsapp = socialmedia('phani')\n",
    "whatsapp.add_posts()"
   ]
  },
  {
   "cell_type": "code",
   "execution_count": 92,
   "id": "a82a3a8c-f09b-498c-81b6-4616b54e7393",
   "metadata": {},
   "outputs": [
    {
     "name": "stdout",
     "output_type": "stream",
     "text": [
      "hello world\n"
     ]
    }
   ],
   "source": [
    "whatsapp.display_posts()"
   ]
  },
  {
   "cell_type": "code",
   "execution_count": 94,
   "id": "b0e524a0-f27a-4fb3-b2cf-d07382115d5d",
   "metadata": {},
   "outputs": [
    {
     "data": {
      "text/plain": [
       "['hello world']"
      ]
     },
     "execution_count": 94,
     "metadata": {},
     "output_type": "execute_result"
    }
   ],
   "source": [
    "whatsapp.search_post('w')"
   ]
  },
  {
   "cell_type": "code",
   "execution_count": null,
   "id": "8bc9fd79-6d24-4736-9f76-ba5531eed92f",
   "metadata": {},
   "outputs": [],
   "source": []
  }
 ],
 "metadata": {
  "kernelspec": {
   "display_name": "Python 3 (ipykernel)",
   "language": "python",
   "name": "python3"
  },
  "language_info": {
   "codemirror_mode": {
    "name": "ipython",
    "version": 3
   },
   "file_extension": ".py",
   "mimetype": "text/x-python",
   "name": "python",
   "nbconvert_exporter": "python",
   "pygments_lexer": "ipython3",
   "version": "3.10.8"
  }
 },
 "nbformat": 4,
 "nbformat_minor": 5
}
